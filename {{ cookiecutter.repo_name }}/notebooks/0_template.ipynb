{
 "cells": [
  {
   "cell_type": "markdown",
   "metadata": {},
   "source": [
    "# Connect to database\n",
    "\n",
    "## Load the packages"
   ]
  },
  {
   "cell_type": "code",
   "execution_count": 2,
   "metadata": {},
   "outputs": [],
   "source": [
    "# Clear all variables\n",
    "%reset -f\n",
    "\n",
    "# base imports\n",
    "import sys\n",
    "import os\n",
    "import pandas as pd\n",
    "\n",
    "# SQL Alchemy imports\n",
    "from sqlalchemy import create_engine\n",
    "\n",
    "# Set file paths and import settings and custom functions\n",
    "#paths\n",
    "project_dir = os.path.abspath(os.path.join(os.getcwd(), '..'))\n",
    "sys.path.append(os.path.abspath(os.path.join(os.getcwd(), '..', 'src')))\n",
    "sys.path.extend([os.path.join(project_dir)])\n",
    "from config import settings\n",
    "engine = create_engine(settings.db_url)\n",
    "project_dir = settings.project_dir # create the project directory\n",
    "\n",
    "# JCG git functions\n",
    "with open(os.path.join(project_dir,'src','mypackages_import_all.py'), 'r') as f:\n",
    "    exec(f.read())"
   ]
  },
  {
   "cell_type": "markdown",
   "metadata": {},
   "source": [
    "## Load the data"
   ]
  },
  {
   "cell_type": "code",
   "execution_count": 3,
   "metadata": {},
   "outputs": [
    {
     "data": {
      "text/html": [
       "<div>\n",
       "<style scoped>\n",
       "    .dataframe tbody tr th:only-of-type {\n",
       "        vertical-align: middle;\n",
       "    }\n",
       "\n",
       "    .dataframe tbody tr th {\n",
       "        vertical-align: top;\n",
       "    }\n",
       "\n",
       "    .dataframe thead th {\n",
       "        text-align: right;\n",
       "    }\n",
       "</style>\n",
       "<table border=\"1\" class=\"dataframe\">\n",
       "  <thead>\n",
       "    <tr style=\"text-align: right;\">\n",
       "      <th></th>\n",
       "      <th>ccode</th>\n",
       "      <th>country</th>\n",
       "      <th>year</th>\n",
       "      <th>element</th>\n",
       "      <th>unit</th>\n",
       "      <th>data</th>\n",
       "    </tr>\n",
       "  </thead>\n",
       "  <tbody>\n",
       "    <tr>\n",
       "      <th>0</th>\n",
       "      <td>2</td>\n",
       "      <td>Afghanistan</td>\n",
       "      <td>1980</td>\n",
       "      <td>Total economically active population in Agr</td>\n",
       "      <td>1000</td>\n",
       "      <td>3004</td>\n",
       "    </tr>\n",
       "    <tr>\n",
       "      <th>1</th>\n",
       "      <td>2</td>\n",
       "      <td>Afghanistan</td>\n",
       "      <td>1981</td>\n",
       "      <td>Total economically active population in Agr</td>\n",
       "      <td>1000</td>\n",
       "      <td>2937</td>\n",
       "    </tr>\n",
       "    <tr>\n",
       "      <th>2</th>\n",
       "      <td>2</td>\n",
       "      <td>Afghanistan</td>\n",
       "      <td>1982</td>\n",
       "      <td>Total economically active population in Agr</td>\n",
       "      <td>1000</td>\n",
       "      <td>2845</td>\n",
       "    </tr>\n",
       "    <tr>\n",
       "      <th>3</th>\n",
       "      <td>2</td>\n",
       "      <td>Afghanistan</td>\n",
       "      <td>1983</td>\n",
       "      <td>Total economically active population in Agr</td>\n",
       "      <td>1000</td>\n",
       "      <td>2740</td>\n",
       "    </tr>\n",
       "    <tr>\n",
       "      <th>4</th>\n",
       "      <td>2</td>\n",
       "      <td>Afghanistan</td>\n",
       "      <td>1984</td>\n",
       "      <td>Total economically active population in Agr</td>\n",
       "      <td>1000</td>\n",
       "      <td>2637</td>\n",
       "    </tr>\n",
       "  </tbody>\n",
       "</table>\n",
       "</div>"
      ],
      "text/plain": [
       "   ccode      country  year                                      element  \\\n",
       "0      2  Afghanistan  1980  Total economically active population in Agr   \n",
       "1      2  Afghanistan  1981  Total economically active population in Agr   \n",
       "2      2  Afghanistan  1982  Total economically active population in Agr   \n",
       "3      2  Afghanistan  1983  Total economically active population in Agr   \n",
       "4      2  Afghanistan  1984  Total economically active population in Agr   \n",
       "\n",
       "   unit  data  \n",
       "0  1000  3004  \n",
       "1  1000  2937  \n",
       "2  1000  2845  \n",
       "3  1000  2740  \n",
       "4  1000  2637  "
      ]
     },
     "execution_count": 3,
     "metadata": {},
     "output_type": "execute_result"
    }
   ],
   "source": [
    "file_path = os.path.join(project_dir, 'data', 'raw', 'CCK_FAO_AgLaborData_June20th2024.xlsx')\n",
    "df_fao = pd.read_excel(file_path, sheet_name='FAOSTAT 2015')\n",
    "df_fao.head()"
   ]
  }
 ],
 "metadata": {
  "kernelspec": {
   "display_name": "villa_data",
   "language": "python",
   "name": "python3"
  },
  "language_info": {
   "codemirror_mode": {
    "name": "ipython",
    "version": 3
   },
   "file_extension": ".py",
   "mimetype": "text/x-python",
   "name": "python",
   "nbconvert_exporter": "python",
   "pygments_lexer": "ipython3",
   "version": "3.8.19"
  }
 },
 "nbformat": 4,
 "nbformat_minor": 2
}
